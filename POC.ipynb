{
 "cells": [
  {
   "cell_type": "code",
   "execution_count": null,
   "metadata": {},
   "outputs": [],
   "source": [
    "import os\n",
    "impor logging\n"
   ]
  },
  {
   "cell_type": "code",
   "execution_count": null,
   "metadata": {},
   "outputs": [],
   "source": [
    "query = \"Sample question\"\n",
    "try:\n",
    "    retrieved_docs = retriever.get_relevant_documents(query)\n",
    "    if retrieved_docs:\n",
    "        logging.info(f\"Successfully retrieved {len(retrieved_docs)} documents.\")\n",
    "    else:\n",
    "        logging.warning(\"No documents retrieved.\")\n",
    "except Exception as e:\n",
    "    logging.error(f\"Error during independent retriever test: {e}\", exc_info=True)\n"
   ]
  }
 ],
 "metadata": {
  "kernelspec": {
   "display_name": "Python 3",
   "language": "python",
   "name": "python3"
  },
  "language_info": {
   "codemirror_mode": {
    "name": "ipython",
    "version": 3
   },
   "file_extension": ".py",
   "mimetype": "text/x-python",
   "name": "python",
   "nbconvert_exporter": "python",
   "pygments_lexer": "ipython3",
   "version": "3.10.10"
  }
 },
 "nbformat": 4,
 "nbformat_minor": 2
}
